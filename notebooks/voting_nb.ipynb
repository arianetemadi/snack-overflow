{
 "cells": [
  {
   "cell_type": "code",
   "execution_count": 1,
   "metadata": {},
   "outputs": [],
   "source": [
    "from src.VotingClassifier import VotingClassifier\n",
    "import warnings\n",
    "\n",
    "warnings.filterwarnings(\"ignore\")"
   ]
  },
  {
   "cell_type": "markdown",
   "metadata": {},
   "source": [
    "## Voting Classifier with validation data   "
   ]
  },
  {
   "cell_type": "code",
   "execution_count": 2,
   "metadata": {},
   "outputs": [
    {
     "name": "stderr",
     "output_type": "stream",
     "text": [
      "100%|██████████| 20033/20033 [00:38<00:00, 514.90it/s]\n",
      "100%|██████████| 4293/4293 [00:02<00:00, 1918.71it/s]\n"
     ]
    },
    {
     "name": "stdout",
     "output_type": "stream",
     "text": [
      "Evaluating naive_bayes\n",
      "              precision    recall  f1-score   support\n",
      "\n",
      "           0       0.83      0.86      0.85      2218\n",
      "           1       0.85      0.81      0.83      2075\n",
      "\n",
      "    accuracy                           0.84      4293\n",
      "   macro avg       0.84      0.84      0.84      4293\n",
      "weighted avg       0.84      0.84      0.84      4293\n",
      "\n",
      "Confusion Matrix:\n",
      "[[1914  304]\n",
      " [ 391 1684]]\n",
      "Evaluating logistic_regression_syn_lr\n",
      "              precision    recall  f1-score   support\n",
      "\n",
      "           0       0.66      0.70      0.68      2218\n",
      "           1       0.66      0.62      0.64      2075\n",
      "\n",
      "    accuracy                           0.66      4293\n",
      "   macro avg       0.66      0.66      0.66      4293\n",
      "weighted avg       0.66      0.66      0.66      4293\n",
      "\n",
      "Confusion Matrix:\n",
      "[[1553  665]\n",
      " [ 798 1277]]\n",
      "Evaluating random_forest_syn_rf\n",
      "              precision    recall  f1-score   support\n",
      "\n",
      "           0       0.64      0.63      0.64      2218\n",
      "           1       0.61      0.62      0.61      2075\n",
      "\n",
      "    accuracy                           0.63      4293\n",
      "   macro avg       0.63      0.63      0.63      4293\n",
      "weighted avg       0.63      0.63      0.63      4293\n",
      "\n",
      "Confusion Matrix:\n",
      "[[1408  810]\n",
      " [ 797 1278]]\n"
     ]
    }
   ],
   "source": [
    "classifier = VotingClassifier(conllu_path=r\"C:\\Users\\MSC\\OneDrive - Fraunhofer Austria Research GmbH\\Desktop\\NLP\\data\\dataset.conllu\",\n",
    " csv_path=r\"C:\\Users\\MSC\\OneDrive - Fraunhofer Austria Research GmbH\\Desktop\\NLP\\data\\trans_prob_temp.csv\")\n",
    "\n",
    "classifier.fit_modles()\n",
    "classifier.predict()\n",
    "classifier.evaluate()"
   ]
  },
  {
   "cell_type": "code",
   "execution_count": 3,
   "metadata": {},
   "outputs": [
    {
     "name": "stdout",
     "output_type": "stream",
     "text": [
      "Evaluating Voting Classifier\n",
      "              precision    recall  f1-score   support\n",
      "\n",
      "           0       0.73      0.76      0.74      2218\n",
      "           1       0.73      0.71      0.72      2075\n",
      "\n",
      "    accuracy                           0.73      4293\n",
      "   macro avg       0.73      0.73      0.73      4293\n",
      "weighted avg       0.73      0.73      0.73      4293\n",
      "\n",
      "Confusion Matrix:\n",
      "[[1678  540]\n",
      " [ 610 1465]]\n"
     ]
    }
   ],
   "source": [
    "classifier.voting()\n",
    "classifier.eval_voting()"
   ]
  },
  {
   "cell_type": "markdown",
   "metadata": {},
   "source": [
    "## Voting Classifier with Tweets    "
   ]
  },
  {
   "cell_type": "code",
   "execution_count": 4,
   "metadata": {},
   "outputs": [
    {
     "name": "stderr",
     "output_type": "stream",
     "text": [
      "100%|██████████| 20033/20033 [00:31<00:00, 642.04it/s]\n",
      "100%|██████████| 3468/3468 [00:01<00:00, 1910.00it/s]\n"
     ]
    },
    {
     "name": "stdout",
     "output_type": "stream",
     "text": [
      "Evaluating naive_bayes\n",
      "              precision    recall  f1-score   support\n",
      "\n",
      "           0       0.75      0.84      0.80      2601\n",
      "           1       0.27      0.17      0.21       867\n",
      "\n",
      "    accuracy                           0.68      3468\n",
      "   macro avg       0.51      0.51      0.50      3468\n",
      "weighted avg       0.63      0.68      0.65      3468\n",
      "\n",
      "Confusion Matrix:\n",
      "[[2196  405]\n",
      " [ 720  147]]\n",
      "Evaluating logistic_regression_syn_lr\n",
      "              precision    recall  f1-score   support\n",
      "\n",
      "           0       0.75      0.65      0.70      2601\n",
      "           1       0.25      0.35      0.29       867\n",
      "\n",
      "    accuracy                           0.57      3468\n",
      "   macro avg       0.50      0.50      0.49      3468\n",
      "weighted avg       0.62      0.57      0.59      3468\n",
      "\n",
      "Confusion Matrix:\n",
      "[[1690  911]\n",
      " [ 565  302]]\n",
      "Evaluating random_forest_syn_rf\n",
      "              precision    recall  f1-score   support\n",
      "\n",
      "           0       0.75      0.46      0.57      2601\n",
      "           1       0.25      0.54      0.34       867\n",
      "\n",
      "    accuracy                           0.48      3468\n",
      "   macro avg       0.50      0.50      0.45      3468\n",
      "weighted avg       0.62      0.48      0.51      3468\n",
      "\n",
      "Confusion Matrix:\n",
      "[[1198 1403]\n",
      " [ 403  464]]\n"
     ]
    }
   ],
   "source": [
    "new_data = [r\"C:\\Users\\MSC\\OneDrive - Fraunhofer Austria Research GmbH\\Desktop\\NLP\\data\\tweets.conllu\", r\"C:\\Users\\MSC\\OneDrive - Fraunhofer Austria Research GmbH\\Desktop\\NLP\\data\\tweets_syn_features.csv\"]\n",
    "\n",
    "classifier = VotingClassifier()\n",
    "classifier.fit_modles()\n",
    "classifier.predict(new_data=new_data)\n",
    "classifier.evaluate()"
   ]
  },
  {
   "cell_type": "code",
   "execution_count": 5,
   "metadata": {},
   "outputs": [
    {
     "name": "stdout",
     "output_type": "stream",
     "text": [
      "Evaluating Voting Classifier\n",
      "              precision    recall  f1-score   support\n",
      "\n",
      "           0       0.75      0.67      0.71      2601\n",
      "           1       0.25      0.33      0.28       867\n",
      "\n",
      "    accuracy                           0.59      3468\n",
      "   macro avg       0.50      0.50      0.50      3468\n",
      "weighted avg       0.62      0.59      0.60      3468\n",
      "\n",
      "Confusion Matrix:\n",
      "[[1747  854]\n",
      " [ 584  283]]\n"
     ]
    }
   ],
   "source": [
    "classifier.voting()\n",
    "classifier.eval_voting()"
   ]
  },
  {
   "cell_type": "markdown",
   "metadata": {},
   "source": [
    "## Voting Classifier with Onion-like ChatGPT Headlines"
   ]
  },
  {
   "cell_type": "code",
   "execution_count": 6,
   "metadata": {},
   "outputs": [
    {
     "name": "stderr",
     "output_type": "stream",
     "text": [
      "100%|██████████| 20033/20033 [00:31<00:00, 630.92it/s]\n",
      "100%|██████████| 1020/1020 [00:00<00:00, 2773.28it/s]\n"
     ]
    },
    {
     "name": "stdout",
     "output_type": "stream",
     "text": [
      "Evaluating naive_bayes\n",
      "              precision    recall  f1-score   support\n",
      "\n",
      "           0       0.89      0.96      0.92       510\n",
      "           1       0.95      0.88      0.92       510\n",
      "\n",
      "    accuracy                           0.92      1020\n",
      "   macro avg       0.92      0.92      0.92      1020\n",
      "weighted avg       0.92      0.92      0.92      1020\n",
      "\n",
      "Confusion Matrix:\n",
      "[[488  22]\n",
      " [ 59 451]]\n",
      "Evaluating logistic_regression_syn_lr\n",
      "              precision    recall  f1-score   support\n",
      "\n",
      "           0       0.79      0.88      0.83       510\n",
      "           1       0.86      0.76      0.81       510\n",
      "\n",
      "    accuracy                           0.82      1020\n",
      "   macro avg       0.83      0.82      0.82      1020\n",
      "weighted avg       0.83      0.82      0.82      1020\n",
      "\n",
      "Confusion Matrix:\n",
      "[[449  61]\n",
      " [122 388]]\n",
      "Evaluating random_forest_syn_rf\n",
      "              precision    recall  f1-score   support\n",
      "\n",
      "           0       0.68      0.77      0.72       510\n",
      "           1       0.74      0.64      0.69       510\n",
      "\n",
      "    accuracy                           0.71      1020\n",
      "   macro avg       0.71      0.71      0.71      1020\n",
      "weighted avg       0.71      0.71      0.71      1020\n",
      "\n",
      "Confusion Matrix:\n",
      "[[394 116]\n",
      " [183 327]]\n"
     ]
    }
   ],
   "source": [
    "new_data = [r\"C:\\Users\\MSC\\OneDrive - Fraunhofer Austria Research GmbH\\Desktop\\NLP\\data\\chatgpt_dataset.conllu\",\n",
    "             r\"C:\\Users\\MSC\\OneDrive - Fraunhofer Austria Research GmbH\\Desktop\\NLP\\data\\onion_chatgpt_syn_features.csv\"]\n",
    "\n",
    "classifier = VotingClassifier()\n",
    "classifier.fit_modles()\n",
    "classifier.predict(new_data=new_data)\n",
    "classifier.evaluate()"
   ]
  },
  {
   "cell_type": "code",
   "execution_count": 7,
   "metadata": {},
   "outputs": [
    {
     "name": "stdout",
     "output_type": "stream",
     "text": [
      "Evaluating Voting Classifier\n",
      "              precision    recall  f1-score   support\n",
      "\n",
      "           0       0.84      0.92      0.88       510\n",
      "           1       0.91      0.83      0.87       510\n",
      "\n",
      "    accuracy                           0.87      1020\n",
      "   macro avg       0.88      0.87      0.87      1020\n",
      "weighted avg       0.88      0.87      0.87      1020\n",
      "\n",
      "Confusion Matrix:\n",
      "[[469  41]\n",
      " [ 89 421]]\n"
     ]
    }
   ],
   "source": [
    "classifier.voting()\n",
    "classifier.eval_voting()"
   ]
  },
  {
   "cell_type": "markdown",
   "metadata": {},
   "source": [
    "## Voting Classifier with generic sarcastic headlines"
   ]
  },
  {
   "cell_type": "code",
   "execution_count": 8,
   "metadata": {},
   "outputs": [
    {
     "name": "stderr",
     "output_type": "stream",
     "text": [
      "100%|██████████| 20033/20033 [00:34<00:00, 580.35it/s]\n",
      "100%|██████████| 500/500 [00:00<00:00, 1956.70it/s]\n"
     ]
    },
    {
     "name": "stdout",
     "output_type": "stream",
     "text": [
      "Evaluating naive_bayes\n",
      "              precision    recall  f1-score   support\n",
      "\n",
      "           0       0.00      0.00      0.00         0\n",
      "           1       1.00      0.74      0.85       500\n",
      "\n",
      "    accuracy                           0.74       500\n",
      "   macro avg       0.50      0.37      0.42       500\n",
      "weighted avg       1.00      0.74      0.85       500\n",
      "\n",
      "Confusion Matrix:\n",
      "[[  0   0]\n",
      " [132 368]]\n",
      "Evaluating logistic_regression_syn_lr\n",
      "              precision    recall  f1-score   support\n",
      "\n",
      "           0       0.00      0.00      0.00         0\n",
      "           1       1.00      0.69      0.82       500\n",
      "\n",
      "    accuracy                           0.69       500\n",
      "   macro avg       0.50      0.35      0.41       500\n",
      "weighted avg       1.00      0.69      0.82       500\n",
      "\n",
      "Confusion Matrix:\n",
      "[[  0   0]\n",
      " [154 346]]\n",
      "Evaluating random_forest_syn_rf\n",
      "              precision    recall  f1-score   support\n",
      "\n",
      "           0       0.00      0.00      0.00         0\n",
      "           1       1.00      0.60      0.75       500\n",
      "\n",
      "    accuracy                           0.60       500\n",
      "   macro avg       0.50      0.30      0.37       500\n",
      "weighted avg       1.00      0.60      0.75       500\n",
      "\n",
      "Confusion Matrix:\n",
      "[[  0   0]\n",
      " [201 299]]\n"
     ]
    }
   ],
   "source": [
    "new_data = [r\"C:\\Users\\MSC\\OneDrive - Fraunhofer Austria Research GmbH\\Desktop\\NLP\\data\\chatgpt_dataset_generic.conllu\",\n",
    "             r\"C:\\Users\\MSC\\OneDrive - Fraunhofer Austria Research GmbH\\Desktop\\NLP\\data\\chatgpt_generic_syn_features.csv\"]\n",
    "\n",
    "classifier = VotingClassifier()\n",
    "classifier.fit_modles()\n",
    "classifier.predict(new_data=new_data)\n",
    "classifier.evaluate()"
   ]
  },
  {
   "cell_type": "code",
   "execution_count": 9,
   "metadata": {},
   "outputs": [
    {
     "name": "stdout",
     "output_type": "stream",
     "text": [
      "Evaluating Voting Classifier\n",
      "              precision    recall  f1-score   support\n",
      "\n",
      "           0       0.00      0.00      0.00         0\n",
      "           1       1.00      0.72      0.84       500\n",
      "\n",
      "    accuracy                           0.72       500\n",
      "   macro avg       0.50      0.36      0.42       500\n",
      "weighted avg       1.00      0.72      0.84       500\n",
      "\n",
      "Confusion Matrix:\n",
      "[[  0   0]\n",
      " [140 360]]\n"
     ]
    }
   ],
   "source": [
    "classifier.voting()\n",
    "classifier.eval_voting()"
   ]
  },
  {
   "cell_type": "code",
   "execution_count": null,
   "metadata": {},
   "outputs": [],
   "source": []
  }
 ],
 "metadata": {
  "kernelspec": {
   "display_name": "venv",
   "language": "python",
   "name": "python3"
  },
  "language_info": {
   "codemirror_mode": {
    "name": "ipython",
    "version": 3
   },
   "file_extension": ".py",
   "mimetype": "text/x-python",
   "name": "python",
   "nbconvert_exporter": "python",
   "pygments_lexer": "ipython3",
   "version": "3.11.11"
  }
 },
 "nbformat": 4,
 "nbformat_minor": 2
}
