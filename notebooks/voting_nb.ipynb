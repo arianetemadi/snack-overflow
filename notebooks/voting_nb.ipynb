{
 "cells": [
  {
   "cell_type": "code",
   "execution_count": 1,
   "metadata": {},
   "outputs": [],
   "source": [
    "from src.VotingClassifier import VotingClassifier"
   ]
  },
  {
   "cell_type": "code",
   "execution_count": 2,
   "metadata": {},
   "outputs": [
    {
     "name": "stderr",
     "output_type": "stream",
     "text": [
      "C:\\Users\\MSC\\AppData\\Roaming\\Python\\Python311\\site-packages\\sklearn\\feature_extraction\\text.py:517: UserWarning: The parameter 'token_pattern' will not be used since 'tokenizer' is not None'\n",
      "  warnings.warn(\n",
      "100%|██████████| 20033/20033 [00:30<00:00, 666.62it/s]\n",
      "100%|██████████| 4293/4293 [00:01<00:00, 2445.32it/s]\n"
     ]
    },
    {
     "name": "stdout",
     "output_type": "stream",
     "text": [
      "Evaluating naive_bayes\n",
      "              precision    recall  f1-score   support\n",
      "\n",
      "           0       0.83      0.86      0.85      2218\n",
      "           1       0.85      0.81      0.83      2075\n",
      "\n",
      "    accuracy                           0.84      4293\n",
      "   macro avg       0.84      0.84      0.84      4293\n",
      "weighted avg       0.84      0.84      0.84      4293\n",
      "\n",
      "Confusion Matrix:\n",
      "[[1914  304]\n",
      " [ 391 1684]]\n",
      "Evaluating logistic_regression_syn_lr\n",
      "              precision    recall  f1-score   support\n",
      "\n",
      "           0       0.66      0.70      0.68      2218\n",
      "           1       0.66      0.62      0.64      2075\n",
      "\n",
      "    accuracy                           0.66      4293\n",
      "   macro avg       0.66      0.66      0.66      4293\n",
      "weighted avg       0.66      0.66      0.66      4293\n",
      "\n",
      "Confusion Matrix:\n",
      "[[1553  665]\n",
      " [ 798 1277]]\n",
      "Evaluating random_forest_syn_rf\n",
      "              precision    recall  f1-score   support\n",
      "\n",
      "           0       0.64      0.63      0.64      2218\n",
      "           1       0.61      0.62      0.62      2075\n",
      "\n",
      "    accuracy                           0.63      4293\n",
      "   macro avg       0.63      0.63      0.63      4293\n",
      "weighted avg       0.63      0.63      0.63      4293\n",
      "\n",
      "Confusion Matrix:\n",
      "[[1406  812]\n",
      " [ 788 1287]]\n"
     ]
    }
   ],
   "source": [
    "classifier = VotingClassifier(conllu_path=r\"C:\\Users\\MSC\\OneDrive - Fraunhofer Austria Research GmbH\\Desktop\\NLP\\data\\dataset.conllu\",\n",
    " csv_path=r\"C:\\Users\\MSC\\OneDrive - Fraunhofer Austria Research GmbH\\Desktop\\NLP\\data\\trans_prob_temp.csv\")\n",
    "\n",
    "classifier.fit_modles()\n",
    "classifier.predict()\n",
    "classifier.evaluate()"
   ]
  },
  {
   "cell_type": "code",
   "execution_count": 3,
   "metadata": {},
   "outputs": [
    {
     "name": "stdout",
     "output_type": "stream",
     "text": [
      "Evaluating Voting Classifier\n",
      "              precision    recall  f1-score   support\n",
      "\n",
      "           0       0.74      0.76      0.75      2218\n",
      "           1       0.73      0.71      0.72      2075\n",
      "\n",
      "    accuracy                           0.73      4293\n",
      "   macro avg       0.73      0.73      0.73      4293\n",
      "weighted avg       0.73      0.73      0.73      4293\n",
      "\n",
      "Confusion Matrix:\n",
      "[[1679  539]\n",
      " [ 605 1470]]\n"
     ]
    }
   ],
   "source": [
    "classifier.voting()\n",
    "classifier.eval_voting()"
   ]
  },
  {
   "cell_type": "code",
   "execution_count": null,
   "metadata": {},
   "outputs": [],
   "source": []
  }
 ],
 "metadata": {
  "kernelspec": {
   "display_name": "venv",
   "language": "python",
   "name": "python3"
  },
  "language_info": {
   "codemirror_mode": {
    "name": "ipython",
    "version": 3
   },
   "file_extension": ".py",
   "mimetype": "text/x-python",
   "name": "python",
   "nbconvert_exporter": "python",
   "pygments_lexer": "ipython3",
   "version": "3.11.11"
  }
 },
 "nbformat": 4,
 "nbformat_minor": 2
}
