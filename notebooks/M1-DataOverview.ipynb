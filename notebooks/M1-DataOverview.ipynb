{
 "cells": [
  {
   "cell_type": "code",
   "execution_count": 1,
   "metadata": {},
   "outputs": [],
   "source": [
    "# Import\n",
    "import pandas as pd\n",
    "import seaborn as sns\n",
    "import matplotlib.pyplot as plt\n",
    "import conllu\n",
    "from collections import Counter\n",
    "from nltk.corpus import stopwords\n",
    "import re\n",
    "from wordfreq import word_frequency"
   ]
  },
  {
   "cell_type": "code",
   "execution_count": 2,
   "metadata": {},
   "outputs": [
    {
     "name": "stderr",
     "output_type": "stream",
     "text": [
      "[nltk_data] Downloading package stopwords to\n",
      "[nltk_data]     C:\\Users\\MSC\\AppData\\Roaming\\nltk_data...\n",
      "[nltk_data]   Package stopwords is already up-to-date!\n"
     ]
    },
    {
     "data": {
      "text/plain": [
       "True"
      ]
     },
     "execution_count": 2,
     "metadata": {},
     "output_type": "execute_result"
    }
   ],
   "source": [
    "import nltk\n",
    "nltk.download('stopwords')"
   ]
  },
  {
   "cell_type": "code",
   "execution_count": 5,
   "metadata": {},
   "outputs": [
    {
     "name": "stdout",
     "output_type": "stream",
     "text": [
      "Dataset Info:\n",
      "<class 'pandas.core.frame.DataFrame'>\n",
      "RangeIndex: 28619 entries, 0 to 28618\n",
      "Data columns (total 3 columns):\n",
      " #   Column        Non-Null Count  Dtype \n",
      "---  ------        --------------  ----- \n",
      " 0   is_sarcastic  28619 non-null  int64 \n",
      " 1   headline      28619 non-null  object\n",
      " 2   article_link  28619 non-null  object\n",
      "dtypes: int64(1), object(2)\n",
      "memory usage: 670.9+ KB\n",
      "\n",
      "First few rows of the dataset:\n",
      "   is_sarcastic                                           headline  \\\n",
      "0             1  thirtysomething scientists unveil doomsday clo...   \n",
      "1             0  dem rep. totally nails why congress is falling...   \n",
      "2             0  eat your veggies: 9 deliciously different recipes   \n",
      "3             1  inclement weather prevents liar from getting t...   \n",
      "4             1  mother comes pretty close to using word 'strea...   \n",
      "\n",
      "                                        article_link  \n",
      "0  https://www.theonion.com/thirtysomething-scien...  \n",
      "1  https://www.huffingtonpost.com/entry/donna-edw...  \n",
      "2  https://www.huffingtonpost.com/entry/eat-your-...  \n",
      "3  https://local.theonion.com/inclement-weather-p...  \n",
      "4  https://www.theonion.com/mother-comes-pretty-c...  \n"
     ]
    }
   ],
   "source": [
    "# Load the JSON data\n",
    "file_path = r'../data/headline_data/Sarcasm_Headlines_Dataset.json'\n",
    "data = pd.read_json(file_path, lines=True)\n",
    "\n",
    "# Display basic information about the dataset\n",
    "print(\"Dataset Info:\")\n",
    "data.info()\n",
    "\n",
    "print(\"\\nFirst few rows of the dataset:\")\n",
    "print(data.head())"
   ]
  },
  {
   "cell_type": "markdown",
   "metadata": {},
   "source": [
    "### Check for missing and duplicates"
   ]
  },
  {
   "cell_type": "code",
   "execution_count": 6,
   "metadata": {},
   "outputs": [
    {
     "name": "stdout",
     "output_type": "stream",
     "text": [
      "Missing values per column:\n",
      "is_sarcastic    0\n",
      "headline        0\n",
      "article_link    0\n",
      "dtype: int64\n",
      "\n",
      "Number of duplicate rows: 2\n"
     ]
    }
   ],
   "source": [
    "# Check for missing values\n",
    "print(\"Missing values per column:\")\n",
    "print(data.isnull().sum())\n",
    "\n",
    "# Check for duplicate rows\n",
    "print(\"\\nNumber of duplicate rows:\", data.duplicated().sum())"
   ]
  },
  {
   "cell_type": "code",
   "execution_count": 7,
   "metadata": {},
   "outputs": [
    {
     "name": "stdout",
     "output_type": "stream",
     "text": [
      "\n",
      "All duplicate rows (including first occurrences):\n"
     ]
    },
    {
     "data": {
      "text/html": [
       "<div>\n",
       "<style scoped>\n",
       "    .dataframe tbody tr th:only-of-type {\n",
       "        vertical-align: middle;\n",
       "    }\n",
       "\n",
       "    .dataframe tbody tr th {\n",
       "        vertical-align: top;\n",
       "    }\n",
       "\n",
       "    .dataframe thead th {\n",
       "        text-align: right;\n",
       "    }\n",
       "</style>\n",
       "<table border=\"1\" class=\"dataframe\">\n",
       "  <thead>\n",
       "    <tr style=\"text-align: right;\">\n",
       "      <th></th>\n",
       "      <th>is_sarcastic</th>\n",
       "      <th>headline</th>\n",
       "      <th>article_link</th>\n",
       "    </tr>\n",
       "  </thead>\n",
       "  <tbody>\n",
       "    <tr>\n",
       "      <th>646</th>\n",
       "      <td>0</td>\n",
       "      <td>hillary clinton vs. herself</td>\n",
       "      <td>https://www.huffingtonpost.comhttp://nymag.com...</td>\n",
       "    </tr>\n",
       "    <tr>\n",
       "      <th>14897</th>\n",
       "      <td>1</td>\n",
       "      <td>nation not sure how many ex-trump staffers it ...</td>\n",
       "      <td>https://politics.theonion.com/nation-not-sure-...</td>\n",
       "    </tr>\n",
       "    <tr>\n",
       "      <th>18572</th>\n",
       "      <td>0</td>\n",
       "      <td>hillary clinton vs. herself</td>\n",
       "      <td>https://www.huffingtonpost.comhttp://nymag.com...</td>\n",
       "    </tr>\n",
       "    <tr>\n",
       "      <th>25743</th>\n",
       "      <td>1</td>\n",
       "      <td>nation not sure how many ex-trump staffers it ...</td>\n",
       "      <td>https://politics.theonion.com/nation-not-sure-...</td>\n",
       "    </tr>\n",
       "  </tbody>\n",
       "</table>\n",
       "</div>"
      ],
      "text/plain": [
       "       is_sarcastic                                           headline  \\\n",
       "646               0                        hillary clinton vs. herself   \n",
       "14897             1  nation not sure how many ex-trump staffers it ...   \n",
       "18572             0                        hillary clinton vs. herself   \n",
       "25743             1  nation not sure how many ex-trump staffers it ...   \n",
       "\n",
       "                                            article_link  \n",
       "646    https://www.huffingtonpost.comhttp://nymag.com...  \n",
       "14897  https://politics.theonion.com/nation-not-sure-...  \n",
       "18572  https://www.huffingtonpost.comhttp://nymag.com...  \n",
       "25743  https://politics.theonion.com/nation-not-sure-...  "
      ]
     },
     "metadata": {},
     "output_type": "display_data"
    }
   ],
   "source": [
    "# Display all rows that are duplicates (including the first occurrence)\n",
    "duplicates_all = data[data.duplicated(keep=False)]\n",
    "print(\"\\nAll duplicate rows (including first occurrences):\")\n",
    "display(duplicates_all)"
   ]
  },
  {
   "cell_type": "markdown",
   "metadata": {},
   "source": [
    "### Examine Class Distribution"
   ]
  },
  {
   "cell_type": "code",
   "execution_count": 8,
   "metadata": {},
   "outputs": [
    {
     "name": "stdout",
     "output_type": "stream",
     "text": [
      "Class distribution:\n",
      " is_sarcastic\n",
      "0    14985\n",
      "1    13634\n",
      "Name: count, dtype: int64\n"
     ]
    },
    {
     "data": {
      "image/png": "[encoded data removed]",
      "text/plain": [
       "<Figure size 640x480 with 1 Axes>"
      ]
     },
     "metadata": {},
     "output_type": "display_data"
    }
   ],
   "source": [
    "# Check the distribution of the target variable\n",
    "\n",
    "class_counts = data['is_sarcastic'].value_counts()\n",
    "print(\"Class distribution:\\n\", class_counts)\n",
    "\n",
    "# Plot the distribution\n",
    "class_counts.plot(kind='bar', color=['skyblue', 'orange'])\n",
    "plt.title('Class Distribution')\n",
    "plt.xlabel('Class (0 = Not Sarcastic, 1 = Sarcastic)')\n",
    "plt.ylabel('Count')\n",
    "plt.show()\n"
   ]
  },
  {
   "cell_type": "markdown",
   "metadata": {},
   "source": [
    "### Explore Random Headlines"
   ]
  },
  {
   "cell_type": "code",
   "execution_count": 9,
   "metadata": {},
   "outputs": [
    {
     "name": "stdout",
     "output_type": "stream",
     "text": [
      "Random headlines:\n",
      "15380            depressed monkey throwing shit at himself\n",
      "13718    police headquarters completes new addition to ...\n",
      "19008    man surprises girlfriend by drawing them in di...\n",
      "20801    captain's hat really completes street lunatic'...\n",
      "14061    nation tired of having to skim past headlines ...\n",
      "9762         google launches 'the google' for older adults\n",
      "13115    bathroom-disinfectant ad reinforces obsessive-...\n",
      "16200    person cropped out of match.com picture clearl...\n",
      "3088       senate's turn to act on patent reform this week\n",
      "1917     physician shoots off a few adderall prescripti...\n",
      "Name: headline, dtype: object\n"
     ]
    }
   ],
   "source": [
    "# Display random samples of headlines\n",
    "print(\"Random headlines:\")\n",
    "print(data['headline'].sample(10, random_state=17))"
   ]
  },
  {
   "cell_type": "markdown",
   "metadata": {},
   "source": [
    "### Analyze Headline length"
   ]
  },
  {
   "cell_type": "code",
   "execution_count": 10,
   "metadata": {},
   "outputs": [
    {
     "name": "stdout",
     "output_type": "stream",
     "text": [
      "Headline length statistics:\n",
      "count    28619.000000\n",
      "mean        62.308571\n",
      "std         20.726483\n",
      "min          7.000000\n",
      "25%         49.000000\n",
      "50%         62.000000\n",
      "75%         75.000000\n",
      "max        926.000000\n",
      "Name: headline_length, dtype: float64\n"
     ]
    },
    {
     "data": {
      "image/png": "[encoded data removed]",
      "text/plain": [
       "<Figure size 640x480 with 1 Axes>"
      ]
     },
     "metadata": {},
     "output_type": "display_data"
    }
   ],
   "source": [
    "# Add a column for headline lengths\n",
    "data['headline_length'] = data['headline'].apply(len)\n",
    "\n",
    "# Display summary statistics for headline lengths\n",
    "print(\"Headline length statistics:\")\n",
    "print(data['headline_length'].describe())\n",
    "\n",
    "# Plot the distribution of headline lengths\n",
    "plt.hist(data['headline_length'], bins=30, color='purple', alpha=0.7)\n",
    "plt.title('Headline Length Distribution')\n",
    "plt.xlabel('Number of Characters')\n",
    "plt.ylabel('Frequency')\n",
    "plt.show()"
   ]
  },
  {
   "cell_type": "markdown",
   "metadata": {},
   "source": [
    "### Sarcasm vs. Headline length"
   ]
  },
  {
   "cell_type": "code",
   "execution_count": 11,
   "metadata": {},
   "outputs": [],
   "source": [
    "# Add a column for headline lengths\n",
    "data['headline_length'] = data['headline'].apply(len)"
   ]
  },
  {
   "cell_type": "code",
   "execution_count": 12,
   "metadata": {},
   "outputs": [
    {
     "name": "stdout",
     "output_type": "stream",
     "text": [
      "Correlation matrix:\n",
      "                 is_sarcastic  headline_length\n",
      "is_sarcastic         1.000000         0.139099\n",
      "headline_length      0.139099         1.000000\n"
     ]
    },
    {
     "data": {
      "image/png": "[encoded data removed]",
      "text/plain": [
       "<Figure size 640x480 with 2 Axes>"
      ]
     },
     "metadata": {},
     "output_type": "display_data"
    }
   ],
   "source": [
    "# Calculate correlation matrix\n",
    "correlation = data[['is_sarcastic', 'headline_length']].corr()\n",
    "print(\"Correlation matrix:\")\n",
    "print(correlation)\n",
    "\n",
    "\n",
    "sns.heatmap(correlation, annot=True, cmap='coolwarm')\n",
    "plt.title('Correlation Heatmap')\n",
    "plt.show()"
   ]
  },
  {
   "cell_type": "markdown",
   "metadata": {},
   "source": [
    "Headline length and sarcasm are minimally positively correlated.\n"
   ]
  },
  {
   "cell_type": "markdown",
   "metadata": {},
   "source": [
    "### Common words in Sarcastic and Non-sarcastic"
   ]
  },
  {
   "cell_type": "code",
   "execution_count": 13,
   "metadata": {},
   "outputs": [],
   "source": [
    "# load the conllu dataset\n",
    "with open(\"../data/dataset.conllu\") as f:\n",
    "    data = conllu.parse(f.read())\n",
    "\n",
    "stopwords = set(stopwords.words('english'))"
   ]
  },
  {
   "cell_type": "code",
   "execution_count": 14,
   "metadata": {},
   "outputs": [
    {
     "name": "stdout",
     "output_type": "stream",
     "text": [
      "[('trump', 1450), ('new', 686), ('say', 546), ('woman', 476), ('make', 460), ('donald', 458), ('get', 450), ('year', 381), ('man', 345), ('one', 272), ('day', 269), ('take', 260), ('way', 257), ('show', 255), ('good', 248), ('life', 247), ('people', 243), ('first', 242), ('world', 242), ('obama', 240), ('u.s', 235), ('want', 233), ('call', 231), ('thing', 230), ('need', 227), ('go', 220), ('time', 218), ('like', 217), ('gop', 215), ('watch', 212)]\n",
      "[('man', 1322), ('new', 1011), ('report', 580), ('get', 524), ('area', 493), ('woman', 487), ('year', 473), ('nation', 390), ('trump', 386), ('go', 378), ('make', 365), ('find', 356), ('day', 344), ('time', 341), ('one', 337), ('old', 326), ('like', 272), ('take', 258), ('still', 251), ('study', 246), ('say', 244), ('back', 234), ('child', 234), ('first', 230), ('good', 230), ('life', 225), ('family', 222), ('u.s', 219), ('house', 214), ('would', 213)]\n"
     ]
    }
   ],
   "source": [
    "# function for finding the most common words of a label (class)\n",
    "def common_words(label, n=30):\n",
    "    words = [word['lemma'] for sentence in data for word in sentence if sentence.metadata['class'] == label]\n",
    "    words = [word for word in words if re.match('\\w', word) and word.lower() not in stopwords]\n",
    "    return Counter(words).most_common(n)\n",
    "\n",
    "print(common_words('0'))\n",
    "print(common_words('1'))"
   ]
  },
  {
   "cell_type": "markdown",
   "metadata": {},
   "source": [
    "Important observations:\n",
    "- Political figures are present in both classes with different frequencies, e.g. Trump has occured in non-sarcastic headlines four times that of sarcastics\n",
    "- 'man' has occured in sarcastics four times more\n",
    "\n",
    "These differences will probably make it harder to understand if our models are learning artifacts or not."
   ]
  },
  {
   "cell_type": "markdown",
   "metadata": {},
   "source": [
    "### Common names"
   ]
  },
  {
   "cell_type": "markdown",
   "metadata": {},
   "source": [
    "Most common words in the lists above are frequent words in English. Limiting the words to names can be more informative.\n",
    "\n",
    "However, since all headlines in our dataset are lower-cased from the beginning, it's a little more difficult to find names.\n",
    "One idea, is to filter words that have lower document frequency in the English language overall."
   ]
  },
  {
   "cell_type": "code",
   "execution_count": 15,
   "metadata": {},
   "outputs": [
    {
     "name": "stdout",
     "output_type": "stream",
     "text": [
      "[('trump', 1450), ('donald', 458), ('obama', 240), ('gop', 215), ('clinton', 206), ('america', 186), ('star', 181), ('bill', 177), ('kid', 175), ('hillary', 171), ('attack', 161), ('kill', 153), ('plan', 149), ('mom', 147), ('photo', 137), ('student', 134), ('election', 133), ('fight', 132), ('gun', 126), ('gay', 125), ('meet', 112), ('climate', 109), ('parent', 108), ('baby', 107), ('campaign', 107), ('vote', 106), ('anti', 106), ('dog', 105), ('dead', 104), ('college', 104)]\n",
      "[('nation', 390), ('trump', 386), ('study', 246), ('obama', 194), ('americans', 192), ('announce', 183), ('plan', 165), ('self', 165), ('parent', 148), ('die', 145), ('mom', 141), ('clinton', 141), ('force', 134), ('spend', 134), ('bush', 128), ('introduce', 126), ('release', 126), ('employee', 125), ('campaign', 124), ('minute', 123), ('hour', 122), ('kill', 121), ('couple', 119), ('dad', 117), ('reveal', 117), ('break', 112), ('eat', 111), ('entire', 109), ('unveil', 108), ('fan', 102)]\n"
     ]
    }
   ],
   "source": [
    "# function for finding the most common words of a label,\n",
    "# also filtering frequent words\n",
    "def common_words(label, n=30):\n",
    "    words = [word['lemma'] for sentence in data for word in sentence if sentence.metadata['class'] == label]\n",
    "    words = [word for word in words if re.match('\\w', word) and word_frequency(word, 'en') < 2.0e-4]\n",
    "    return Counter(words).most_common(n)\n",
    "\n",
    "print(common_words('0'))\n",
    "print(common_words('1'))"
   ]
  }
 ],
 "metadata": {
  "kernelspec": {
   "display_name": "venv",
   "language": "python",
   "name": "python3"
  },
  "language_info": {
   "codemirror_mode": {
    "name": "ipython",
    "version": 3
   },
   "file_extension": ".py",
   "mimetype": "text/x-python",
   "name": "python",
   "nbconvert_exporter": "python",
   "pygments_lexer": "ipython3",
   "version": "3.11.11"
  }
 },
 "nbformat": 4,
 "nbformat_minor": 2
}
