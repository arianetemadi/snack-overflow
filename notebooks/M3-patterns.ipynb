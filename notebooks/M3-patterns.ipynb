{
 "cells": [
  {
   "cell_type": "markdown",
   "metadata": {},
   "source": [
    "#### Notebook for fitting simple regex patterns on our datasets"
   ]
  },
  {
   "cell_type": "code",
   "execution_count": 1,
   "metadata": {},
   "outputs": [],
   "source": [
    "from src.data_util import load_data\n",
    "from src.patterns import fit_patterns\n",
    "\n",
    "# load the data\n",
    "headlines = load_data(\"../data/headline_data/headlines.conllu\")"
   ]
  },
  {
   "cell_type": "code",
   "execution_count": 2,
   "metadata": {},
   "outputs": [
    {
     "name": "stdout",
     "output_type": "stream",
     "text": [
      "-- class = 1: precision=0.8781362007168458, recall=0.017969781428780987\n",
      "-- examples that fit these patterns: \n",
      "study finds no logical reason why planes fly\n",
      "study: 90% of americans strongly opposed to each other\n",
      "new epa study finds 98% of u.s. mop water fucking nasty as hell\n",
      "study suggests onion social notifications 300 times more satisfying to receive than facebook notifications\n",
      "study finds that all the worst people will outlive you\n"
     ]
    }
   ],
   "source": [
    "pattern = \".*study.*\"\n",
    "precision, recall, subset = fit_patterns(headlines, [pattern], \"1\", num_examples=5)"
   ]
  },
  {
   "cell_type": "code",
   "execution_count": 3,
   "metadata": {},
   "outputs": [
    {
     "name": "stdout",
     "output_type": "stream",
     "text": [
      "-- class = 0: precision=0.9297297297297298, recall=0.011478144811478144\n",
      "-- examples that fit these patterns: \n",
      "here's how you can help lgbtq communities around the country\n",
      "here's what it's like to be somebody who hates everyone and everything\n",
      "goldman sachs announces they're blowing up a nursing home and there's nothing anyone can do about it\n",
      "acoustic-guitar-wielding trump tells congress 'this here's the story of america'\n",
      "here's how concerned republicans are with trump's conflicts of interest\n",
      "here's what the oscar nominations should look like\n",
      "here's how depression affects gay and lesbian couples\n",
      "michele bachmann claims there's violence in israel because jesus is 'coming soon'\n",
      "here's how this queer couple discovered 'the power of family'\n",
      "here's why some black women aren't here for #womenboycotttwitter\n"
     ]
    }
   ],
   "source": [
    "pattern = \".*here's.*\"\n",
    "precision, recall, subset = fit_patterns(headlines, [pattern], \"0\")"
   ]
  },
  {
   "cell_type": "code",
   "execution_count": 4,
   "metadata": {},
   "outputs": [
    {
     "name": "stdout",
     "output_type": "stream",
     "text": [
      "-- class = 1: precision=0.8381018841591068, recall=0.08808860202435088\n",
      "-- examples that fit these patterns: \n",
      "nation longing for simpler time of knowing exactly who they wanted to kill and why\n",
      "lunch barely misses area man's vital organs\n",
      "trump deploys national guard to press conference for standing ovation\n",
      "area woman always has something quirky to do\n",
      "jessica simpson and eric johnson throw it back to 'national lampoon's vacation' for halloween\n",
      "national park service studies historic lgbtq sites for possible recognition\n",
      "national defense strategy\n",
      "man who got 6-figure book deal from his tumblr account has the fucking nerve to appear on national television\n",
      "area woman thinking about doing that thing where she's mean to other women she meets for no reason\n",
      "area liberal no longer recognizes fanciful, wildly inaccurate mental picture of country he lives in\n"
     ]
    }
   ],
   "source": [
    "patterns = [\n",
    "    \".*area man.*\",\n",
    "    \".*area.*\",\n",
    "    \".*nation.*\",\n",
    "    \".*local.*\",\n",
    "]\n",
    "_ = fit_patterns(headlines, patterns)"
   ]
  },
  {
   "cell_type": "code",
   "execution_count": 5,
   "metadata": {},
   "outputs": [
    {
     "name": "stdout",
     "output_type": "stream",
     "text": [
      "-- class = 0: precision=0.9297297297297298, recall=0.011478144811478144\n",
      "-- examples that fit these patterns: \n",
      "there's no good excuse for the racist impact of michigan's medicaid proposal\n",
      "trump says there's been no russia contact -- of course, much of what he says is untrue\n",
      "here's how this queer couple discovered 'the power of family'\n",
      "here's what clinton and trump were really thinking about during the debate\n",
      "transgender lawmaker danica roem: trump shows there's 'no barrier' to getting elected\n",
      "trump says there's been no russia contact -- of course, much of what he says is untrue\n",
      "here's how you can help lgbtq communities around the country\n",
      "here's how this queer couple discovered 'the power of family'\n",
      "here's what reagan and bush had to say about immigration\n",
      "trump says there's been no russia contact -- of course, much of what he says is untrue\n"
     ]
    }
   ],
   "source": [
    "patterns = [\n",
    "    \".*here's.*\",\n",
    "]\n",
    "_ = fit_patterns(headlines, patterns, \"0\")"
   ]
  },
  {
   "cell_type": "markdown",
   "metadata": {},
   "source": [
    "It feels like onion's patterns are limited to single words like 'nation'.\n",
    "It seems like they try to have the usual patterns of other news sources, that people are familiar with.\n",
    "And then sometimes they use some patters too much, like the ones with 'nation' or 'area man'.\n",
    "But otherwise, I don't see any patterns or syntactic sturcture.\n",
    "Even if there is something, it might account for maybe barely one percent of onion headlines.\n",
    "And it doesn't really help that much."
   ]
  }
 ],
 "metadata": {
  "kernelspec": {
   "display_name": "venv",
   "language": "python",
   "name": "python3"
  },
  "language_info": {
   "codemirror_mode": {
    "name": "ipython",
    "version": 3
   },
   "file_extension": ".py",
   "mimetype": "text/x-python",
   "name": "python",
   "nbconvert_exporter": "python",
   "pygments_lexer": "ipython3",
   "version": "3.10.12"
  }
 },
 "nbformat": 4,
 "nbformat_minor": 2
}
