{
 "cells": [
  {
   "cell_type": "markdown",
   "metadata": {},
   "source": [
    "Let's count some patterns!"
   ]
  },
  {
   "cell_type": "code",
   "execution_count": 1,
   "metadata": {},
   "outputs": [],
   "source": [
    "from src.data_util import load_data\n",
    "from src.patterns import fit_patterns\n",
    "\n",
    "# load the data\n",
    "headlines = load_data(\"../data/headline_data/headlines.conllu\")"
   ]
  },
  {
   "cell_type": "code",
   "execution_count": 2,
   "metadata": {},
   "outputs": [
    {
     "name": "stdout",
     "output_type": "stream",
     "text": [
      "-- class = 1: precision=0.8781362007168458, recall=0.017969781428780987\n",
      "-- examples that fit these patterns: \n",
      "new department of agriculture study finds 85% of u.s. farmers woefully kicking at dirt\n",
      "study: owning a boat not worth it\n",
      "study: 90% of all meowing comes from owners trying to get cats to meow back\n",
      "bible study group preparing for bible aptitude test\n",
      "study: those who go to college earn more degrees over lifetime than those who do not\n"
     ]
    }
   ],
   "source": [
    "pattern = \".*study.*\"\n",
    "precision, recall, subset = fit_patterns(headlines, [pattern], \"1\", num_examples=5)"
   ]
  },
  {
   "cell_type": "code",
   "execution_count": 3,
   "metadata": {},
   "outputs": [
    {
     "name": "stdout",
     "output_type": "stream",
     "text": [
      "-- class = 0: precision=0.9297297297297298, recall=0.011478144811478144\n",
      "-- examples that fit these patterns: \n",
      "here's your chance to score never ending pasta at olive garden\n",
      "friday's morning email: here's how trump is undermining obamacare\n",
      "here's what clinton and trump were really thinking about during the debate\n",
      "muscular guys are seen as better leaders, but there's a catch\n",
      "flower freaking out after realizing there's a bee on it\n",
      "tammy baldwin on rumors of anti-lgbtq executive order: where's ivanka now?\n",
      "here's how many calories 6 summer olympic sports burn\n",
      "here's your chance to attend kobe bryant's last game\n",
      "here's why a nonprofit named for anne frank keeps attacking trump\n",
      "'harry potter' actor alfred enoch says there's no reason hermione can't be black\n"
     ]
    }
   ],
   "source": [
    "pattern = \".*here's.*\"\n",
    "precision, recall, subset = fit_patterns(headlines, [pattern], \"0\")"
   ]
  },
  {
   "cell_type": "code",
   "execution_count": 4,
   "metadata": {},
   "outputs": [
    {
     "name": "stdout",
     "output_type": "stream",
     "text": [
      "-- class = 1: precision=0.8381018841591068, recall=0.08808860202435088\n",
      "-- examples that fit these patterns: \n",
      "local teen would choose gun with night vision laser scope if he joined army\n",
      "'you better give our dad a good trade deal or you'll be sorry!' shout angry trump boys on phone with employee of local chinese restaurant\n",
      "area mom disappointed no one noticed mastectomy\n",
      "gop senator still thinks efforts to end housing discrimination fueled financial crisis\n",
      "area woman has more than 200 products to help calm her\n",
      "nation admits being so coked-out in '80s they have no memory of reading 'cujo'\n",
      "area theater has strict rule against bringing in outside movies\n",
      "what's at stake: the current landscape on lgbtq nondiscrimination protections\n",
      "dripping-wet josh holloway enters local restaurant\n",
      "nation's beekeepers warn they don't know how much longer they can hold back swarms' wrath\n"
     ]
    }
   ],
   "source": [
    "patterns = [\n",
    "    \".*area man.*\",\n",
    "    \".*area.*\",\n",
    "    \".*nation.*\",\n",
    "    \".*local.*\",\n",
    "]\n",
    "_ = fit_patterns(headlines, patterns)"
   ]
  },
  {
   "cell_type": "code",
   "execution_count": 5,
   "metadata": {},
   "outputs": [
    {
     "name": "stdout",
     "output_type": "stream",
     "text": [
      "-- class = 0: precision=0.9297297297297298, recall=0.011478144811478144\n",
      "-- examples that fit these patterns: \n",
      "here's a deleted 'broad city' scene you've never seen before\n",
      "here's who will moderate the presidential and vice presidential debates\n",
      "sony exec's apology following prejudicial emails is just not enough, and here's why\n",
      "here's the candidate who could help bernie sanders' dreams come true\n",
      "here's how rihanna dresses for a casual tuesday\n",
      "here's how anti-vaxxers actually sound\n",
      "here's how long muslims fast around the world\n",
      "here's what i'm doing with my 'thoughts and prayers' this week\n",
      "here's how to get republicans to change their minds on the minimum wage\n",
      "here's the trailer for adam sandler's 'the ridiculous 6' on netflix\n"
     ]
    }
   ],
   "source": [
    "patterns = [\n",
    "    \".*here's.*\",\n",
    "]\n",
    "_ = fit_patterns(headlines, patterns, \"0\")"
   ]
  },
  {
   "cell_type": "markdown",
   "metadata": {},
   "source": [
    "It feels like onion's patterns are limited to single words like 'nation'.\n",
    "It seems like they try to have the usual patterns of other news sources, that people are familiar with.\n",
    "And then sometimes they use some patters too much, like the ones with 'nation' or 'area man'.\n",
    "But otherwise, I don't see any patterns or syntactic sturcture.\n",
    "Even if there is something, it might account for maybe barely one percent of onion headlines.\n",
    "And it doesn't really help that much."
   ]
  }
 ],
 "metadata": {
  "kernelspec": {
   "display_name": "venv",
   "language": "python",
   "name": "python3"
  },
  "language_info": {
   "codemirror_mode": {
    "name": "ipython",
    "version": 3
   },
   "file_extension": ".py",
   "mimetype": "text/x-python",
   "name": "python",
   "nbconvert_exporter": "python",
   "pygments_lexer": "ipython3",
   "version": "3.11.11"
  }
 },
 "nbformat": 4,
 "nbformat_minor": 2
}
