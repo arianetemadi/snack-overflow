{
 "cells": [
  {
   "cell_type": "markdown",
   "metadata": {},
   "source": [
    "Let's count some patterns!"
   ]
  },
  {
   "cell_type": "code",
   "execution_count": 6,
   "metadata": {},
   "outputs": [],
   "source": [
    "from src.data_util import load_data\n",
    "from src.patterns import fit_patterns\n",
    "\n",
    "# load the data\n",
    "headlines = load_data(\"../data/dataset.conllu\")"
   ]
  },
  {
   "cell_type": "code",
   "execution_count": 7,
   "metadata": {},
   "outputs": [
    {
     "name": "stdout",
     "output_type": "stream",
     "text": [
      "-- class = 1: precision=0.8781362007168458, recall=0.017969781428780987\n",
      "-- examples that fit these patterns: \n",
      "study: 63% of all human speech occurs under breath\n",
      "study: majority of americans not informed enough to stereotype chechens\n",
      "study: humans began domesticating animals to comfort children whose parents split up\n",
      "study: 83% of marathon spectators only attend for sick thrill of watching fellow man suffer\n",
      "new study finds humans may have some capacity for compassion\n"
     ]
    }
   ],
   "source": [
    "pattern = \".*study.*\"\n",
    "precision, recall, subset = fit_patterns(headlines, [pattern], \"1\", num_examples=5)"
   ]
  },
  {
   "cell_type": "code",
   "execution_count": 8,
   "metadata": {},
   "outputs": [
    {
     "name": "stdout",
     "output_type": "stream",
     "text": [
      "-- class = 0: precision=0.9297297297297298, recall=0.011478144811478144\n",
      "-- examples that fit these patterns: \n",
      "there's finally a museum devoted to telling the story of hbcus\n",
      "here's how to stay on leonardo dicaprio's private island\n",
      "here's carrie fisher in 'one of the most entertaining interviews ever'\n",
      "here's what happened when i slept for an extra hour each night\n",
      "here's why french queer activists hung a banner against french president macron\n",
      "mom shows there's no one way to feed a baby with gorgeous photo\n",
      "here's a preview of what obama will say in the state of the union\n",
      "virginia is on the verge of giving health coverage to 400,000, but there's a catch\n",
      "new cheney memoir reveals he's going to live full, satisfied life without ever feeling remorse and there's nothing we can do about it\n",
      "you're tackling your to-do list all wrong -- here's how to get it right\n"
     ]
    }
   ],
   "source": [
    "pattern = \".*here's.*\"\n",
    "precision, recall, subset = fit_patterns(headlines, [pattern], \"0\")"
   ]
  },
  {
   "cell_type": "code",
   "execution_count": 9,
   "metadata": {},
   "outputs": [
    {
     "name": "stdout",
     "output_type": "stream",
     "text": [
      "-- class = 1: precision=0.8381018841591068, recall=0.08808860202435088\n",
      "-- examples that fit these patterns: \n",
      "area liberal no longer recognizes fanciful, wildly inaccurate mental picture of country he lives in\n",
      "'the birth of a nation': a century later\n",
      "international aids conference attendees receive complimentary gift bag full of awesome aids gear\n",
      "area 31-year-old can't believe 'you must be born before this date to buy cigarettes' sign up to 1982\n",
      "huge animal jumps right fucking out in front of area man\n",
      "22-year-old fuck complains of age discrimination\n",
      "you just have to get to know area jerk\n",
      "area panties in a bunch\n",
      "area eyesore also a data technician\n",
      "local woman dies of lost cell phone\n"
     ]
    }
   ],
   "source": [
    "patterns = [\n",
    "    \".*area man.*\",\n",
    "    \".*area.*\",\n",
    "    \".*nation.*\",\n",
    "    \".*local.*\",\n",
    "]\n",
    "_ = fit_patterns(headlines, patterns)"
   ]
  },
  {
   "cell_type": "code",
   "execution_count": 10,
   "metadata": {},
   "outputs": [
    {
     "name": "stdout",
     "output_type": "stream",
     "text": [
      "-- class = 0: precision=0.9297297297297298, recall=0.011478144811478144\n",
      "-- examples that fit these patterns: \n",
      "here's a pro tip for katie couric before she does another documentary\n",
      "few latino kids attend catholic schools - here's why\n",
      "here's your 10-piece winter capsule wardrobe checklist\n",
      "scientists confirm there's nothing but misinformation on anti-vax sites\n",
      "here's what happens when kids age out of foster care\n",
      "john kerry: 'there's a massive amount of overclassification'\n",
      "here's a terrifying view of a baseball fan's one-handed catch\n",
      "there's no way james comey said what trump claims he did\n",
      "here's what we know about bill cosby's defense team\n",
      "there's a reason powerful americans love to attack black sports figures\n"
     ]
    }
   ],
   "source": [
    "patterns = [\n",
    "    \".*here's.*\",\n",
    "]\n",
    "_ = fit_patterns(headlines, patterns, \"0\")"
   ]
  },
  {
   "cell_type": "markdown",
   "metadata": {},
   "source": [
    "It feels like onion's patterns are limited to single words like 'nation'.\n",
    "It seems like they try to have the usual patterns of other news sources, that people are familiar with.\n",
    "And then sometimes they use some patters too much, like the ones with 'nation' or 'area man'.\n",
    "But otherwise, I don't see any patterns or syntactic sturcture.\n",
    "Even if there is something, it might account for maybe barely one percent of onion headlines.\n",
    "And it doesn't really help that much."
   ]
  }
 ],
 "metadata": {
  "kernelspec": {
   "display_name": "venv",
   "language": "python",
   "name": "python3"
  },
  "language_info": {
   "codemirror_mode": {
    "name": "ipython",
    "version": 3
   },
   "file_extension": ".py",
   "mimetype": "text/x-python",
   "name": "python",
   "nbconvert_exporter": "python",
   "pygments_lexer": "ipython3",
   "version": "3.10.12"
  }
 },
 "nbformat": 4,
 "nbformat_minor": 2
}
